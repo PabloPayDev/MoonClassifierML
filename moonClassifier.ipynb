{
 "cells": [
  {
   "cell_type": "markdown",
   "metadata": {},
   "source": [
    "# Moon Classifier"
   ]
  },
  {
   "cell_type": "code",
   "execution_count": 3,
   "metadata": {},
   "outputs": [],
   "source": [
    "import numpy as np\n",
    "import pandas as pd\n",
    "import matplotlib.pyplot as plt\n",
    "from random import randint"
   ]
  },
  {
   "cell_type": "markdown",
   "metadata": {},
   "source": [
    "##### ABRIMOS NUESTRO DATASET"
   ]
  },
  {
   "cell_type": "code",
   "execution_count": 4,
   "metadata": {
    "scrolled": true
   },
   "outputs": [
    {
     "name": "stdout",
     "output_type": "stream",
     "text": [
      "[[0.99215686 0.99215686 0.99215686 ... 0.99215686 0.99215686 0.99215686]\n",
      " [0.99215686 0.99215686 0.99215686 ... 0.99215686 0.99215686 0.99215686]\n",
      " [1.         1.         1.         ... 1.         1.         1.        ]\n",
      " ...\n",
      " [1.         1.         1.         ... 0.99607843 0.99607843 0.99607843]\n",
      " [1.         1.         1.         ... 1.         1.         1.        ]\n",
      " [0.81176471 0.78039216 0.78431373 ... 0.85882353 0.86666667 0.86666667]]\n",
      "(422, 1024)\n"
     ]
    }
   ],
   "source": [
    "data = pd.read_csv('MoonImgsXData.csv')\n",
    "X = data.iloc[:,1:1024]\n",
    "X = np.array(X)\n",
    "X = X.reshape((422,1024))\n",
    "print(X)\n",
    "print(X.shape)"
   ]
  },
  {
   "cell_type": "code",
   "execution_count": 5,
   "metadata": {},
   "outputs": [
    {
     "name": "stdout",
     "output_type": "stream",
     "text": [
      "[1 1 1 1 1 1 1 1 1 1 1 1 1 1 1 1 1 1 1 1 1 1 1 1 1 1 1 1 1 1 1 1 1 1 1 1 1\n",
      " 1 1 1 1 1 1 1 1 1 1 1 1 1 1 1 1 1 1 1 1 1 1 1 1 1 1 1 1 1 1 1 1 1 1 1 1 1\n",
      " 1 1 1 1 1 1 1 1 1 1 1 1 1 1 1 1 1 1 1 1 1 1 1 1 1 1 1 1 1 1 1 1 1 1 1 1 1\n",
      " 1 1 1 1 1 1 1 1 1 1 1 1 1 1 1 1 1 1 1 1 1 1 1 1 1 1 1 1 1 1 1 1 1 1 1 1 1\n",
      " 1 1 1 1 1 1 1 1 1 1 1 1 1 1 1 1 1 1 1 1 1 1 1 1 1 1 1 1 1 1 1 1 1 1 1 1 1\n",
      " 1 1 1 1 1 1 1 1 1 1 1 1 1 1 1 1 1 1 1 1 1 1 1 1 1 1 1 1 1 1 1 1 1 1 1 1 1\n",
      " 1 1 1 1 1 1 1 0 0 0 0 0 0 0 0 0 0 0 0 0 0 0 0 0 0 0 0 0 0 0 0 0 0 0 0 0 0\n",
      " 0 0 0 0 0 0 0 0 0 0 0 0 0 0 0 0 0 0 0 0 0 0 0 0 0 0 0 0 0 0 0 0 0 0 0 0 0\n",
      " 0 0 0 0 0 0 0 0 0 0 0 0 0 0 0 0 0 0 0 0 0 0 0 0 0 0 0 0 0 0 0 0 0 0 0 0 0\n",
      " 0 0 0 0 0 0 0 0 0 0 0 0 0 0 0 0 0 0 0 0 0 0 0 0 0 0 0 0 0 0 0 0 0 0 0 0 0\n",
      " 0 0 0 0 0 0 0 0 0 0 0 0 0 0 0 0 0 0 0 0 0 0 0 0 0 0 0 0 0 0 0 0 0 0 0 0 0\n",
      " 0 0 0 0 0 0 0 0 0 0 0 0 0 0 0]\n",
      "(422,)\n"
     ]
    }
   ],
   "source": [
    "data = pd.read_csv('MoonImgsYData.csv')\n",
    "y = (data.iloc[:,1]).values.flatten()\n",
    "y = np.array(y)\n",
    "print(y)\n",
    "print(y.shape)"
   ]
  },
  {
   "cell_type": "markdown",
   "metadata": {},
   "source": [
    "##### Generamos Vector Theta"
   ]
  },
  {
   "cell_type": "code",
   "execution_count": 6,
   "metadata": {},
   "outputs": [
    {
     "name": "stdout",
     "output_type": "stream",
     "text": [
      "Generando Theta aleatorio\n",
      "[[0.00152956]\n",
      " [0.00067987]\n",
      " [0.00044256]\n",
      " ...\n",
      " [0.00061185]\n",
      " [0.00146351]\n",
      " [0.00073451]]\n",
      "(1024, 1)\n"
     ]
    }
   ],
   "source": [
    "#Inicializacion aleatoria del vector Theta\n",
    "print(\"Generando Theta aleatorio\")\n",
    "theta = (np.random.rand(1024) * (2.0/1024)).reshape((1024,1))\n",
    "print(theta)\n",
    "print(theta.shape)"
   ]
  },
  {
   "cell_type": "markdown",
   "metadata": {},
   "source": [
    "##### Definimos Funciones a Utilizar"
   ]
  },
  {
   "cell_type": "code",
   "execution_count": 7,
   "metadata": {},
   "outputs": [],
   "source": [
    "#Funcion Sigmoide\n",
    "def sigmoide(Z):\n",
    "    return 1/(1+np.exp(-Z))\n",
    "\n",
    "#CostFunction and Gradient\n",
    "def costFunc(X,Y,Theta):\n",
    "    J =  -np.sum( Y*np.log(sigmoide(X@Theta)) + (1-Y)*np.log(1-sigmoide(X@Theta)))/(Y.shape[0])\n",
    "    J_grad = (X.T@(sigmoide(X@Theta) - Y))/(Y.shape[0])\n",
    "    return J, J_grad\n",
    "\n",
    "#Actualiced Theta\n",
    "def act_Theta(Theta,J_grad,alpha):\n",
    "    return  Theta - alpha*J_grad\n",
    "\n",
    "#CostFunction and Gradient Descent\n",
    "def gradientDescent(X,Y,Theta_gd,alpha=0.01,iteraciones=400):\n",
    "    histJ = []\n",
    "    histJ_grad= []\n",
    "    J , J_grad = costFunc(X,Y.reshape(-1,1),Theta_gd)\n",
    "    histJ.append(J)\n",
    "    histJ_grad.append(J_grad)\n",
    "    for i in range(1,iteraciones+1):\n",
    "        Theta_gd = act_Theta(Theta_gd,J_grad,alpha=alpha)\n",
    "        J , J_grad = costFunc(X,Y.reshape(-1,1),Theta_gd)\n",
    "        histJ.append(J)\n",
    "        histJ_grad.append(J_grad)\n",
    "        if i%100 ==0:\n",
    "            print(\"Función de costo en la iteración \", i, \": \",round(J,6))\n",
    "    return Theta_gd , histJ, histJ_grad\n",
    "\n",
    "#Conteo de aciertos\n",
    "def aciertos(X,Theta_opt,Y): \n",
    "    Salida = np.where(sigmoide(X@Theta_opt)>= 0.5, 1, 0)\n",
    "    return Salida, np.sum(Y.reshape(-1,1) == Salida)/(Y.shape[0])"
   ]
  },
  {
   "cell_type": "markdown",
   "metadata": {},
   "source": [
    "##### Pueba Simple de la Funcion de Costo"
   ]
  },
  {
   "cell_type": "code",
   "execution_count": 8,
   "metadata": {},
   "outputs": [
    {
     "data": {
      "text/plain": [
       "(0.6512371063860782,\n",
       " array([[-0.01029957],\n",
       "        [-0.0151095 ],\n",
       "        [-0.01212851],\n",
       "        ...,\n",
       "        [-0.01324707],\n",
       "        [-0.01532381],\n",
       "        [-0.01456957]]))"
      ]
     },
     "execution_count": 8,
     "metadata": {},
     "output_type": "execute_result"
    }
   ],
   "source": [
    "costFunc(X,y.reshape(-1,1),theta)"
   ]
  },
  {
   "cell_type": "markdown",
   "metadata": {},
   "source": [
    "##### Entrenamos el Modelo"
   ]
  },
  {
   "cell_type": "code",
   "execution_count": 9,
   "metadata": {},
   "outputs": [
    {
     "name": "stdout",
     "output_type": "stream",
     "text": [
      "Función de costo en la iteración  100 :  0.472799\n",
      "Función de costo en la iteración  200 :  0.452288\n",
      "Función de costo en la iteración  300 :  0.439915\n",
      "Función de costo en la iteración  400 :  0.430194\n"
     ]
    }
   ],
   "source": [
    "#Aplicando el GradientDescent\n",
    "Theta_opt , J_hist , histJ_grad = gradientDescent(X,y,theta, alpha=0.01)"
   ]
  },
  {
   "cell_type": "markdown",
   "metadata": {},
   "source": [
    "##### Graficamos la evolucion de los costos"
   ]
  },
  {
   "cell_type": "code",
   "execution_count": 10,
   "metadata": {},
   "outputs": [
    {
     "name": "stdout",
     "output_type": "stream",
     "text": [
      "Siendo los valores optimos de Theta:\n"
     ]
    },
    {
     "data": {
      "text/plain": [
       "[<matplotlib.lines.Line2D at 0x23bd86dc2d0>]"
      ]
     },
     "execution_count": 10,
     "metadata": {},
     "output_type": "execute_result"
    },
    {
     "data": {
      "image/png": "[encoded data removed]",
      "text/plain": [
       "<Figure size 640x480 with 1 Axes>"
      ]
     },
     "metadata": {},
     "output_type": "display_data"
    }
   ],
   "source": [
    "#Mostrando los Theta Optimos y Grafico del historial de Costo\n",
    "print(\"Siendo los valores optimos de Theta:\")\n",
    "# print(Theta_opt)\n",
    "plt.plot(J_hist)"
   ]
  },
  {
   "cell_type": "markdown",
   "metadata": {},
   "source": [
    "##### Vemos los aciertos en el propio DataSer"
   ]
  },
  {
   "cell_type": "code",
   "execution_count": 16,
   "metadata": {},
   "outputs": [
    {
     "name": "stdout",
     "output_type": "stream",
     "text": [
      "Por ultimo la probabilidad clasificando el mismo DataSet con los Theta optimos es:\n",
      "0.8317535545023697\n"
     ]
    }
   ],
   "source": [
    "#Conteo de Aciertos usando el mismo DataSet\n",
    "print(\"Por ultimo la probabilidad clasificando el mismo DataSet con los Theta optimos es:\")\n",
    "Y_hat , count = aciertos(X,Theta_opt,y)\n",
    "print(count)"
   ]
  },
  {
   "cell_type": "markdown",
   "metadata": {},
   "source": [
    "##### Prueba Unitaria del Modelo"
   ]
  },
  {
   "cell_type": "markdown",
   "metadata": {},
   "source": [
    "En esta seccion podemos probar y verificar como se comporta el modelo ante los registros del DataSet"
   ]
  },
  {
   "cell_type": "code",
   "execution_count": 36,
   "metadata": {},
   "outputs": [
    {
     "name": "stdout",
     "output_type": "stream",
     "text": [
      "Data elegida:  378\n",
      "Datos:  [0.94117647 0.9372549  0.93333333 ... 0.98039216 0.91764706 0.95686275]\n",
      "Resultado:  No luna\n",
      "Prediccion: Luna\n"
     ]
    },
    {
     "data": {
      "image/png": "[encoded data removed]",
      "text/plain": [
       "<Figure size 640x480 with 2 Axes>"
      ]
     },
     "metadata": {},
     "output_type": "display_data"
    }
   ],
   "source": [
    "#Prueba con un dato especifico\n",
    "indTest = randint(0,y.shape[0])\n",
    "print(\"Data elegida: \",indTest)\n",
    "\n",
    "xTest = X[indTest]\n",
    "print(\"Datos: \",xTest)\n",
    "yTest = y[indTest]\n",
    "if(yTest):\n",
    "    print(\"Resultado: \",\"Luna\")\n",
    "else:   \n",
    "    print(\"Resultado: \",\"No luna\")\n",
    "\n",
    "pred = sigmoide(xTest@Theta_opt)\n",
    "if(pred >= 0.5):\n",
    "    print(\"Prediccion:\",\"Luna\")\n",
    "else:\n",
    "    print(\"Prediccion:\",\"NO luna\")\n",
    "    \n",
    "x2img = (xTest*255).reshape(32,32)\n",
    "plt.imshow( x2img, cmap=\"gray\", vmin=0, vmax=255)\n",
    "plt.colorbar()\n",
    "plt.show()\n"
   ]
  }
 ],
 "metadata": {
  "kernelspec": {
   "display_name": "Python 3",
   "language": "python",
   "name": "python3"
  },
  "language_info": {
   "codemirror_mode": {
    "name": "ipython",
    "version": 3
   },
   "file_extension": ".py",
   "mimetype": "text/x-python",
   "name": "python",
   "nbconvert_exporter": "python",
   "pygments_lexer": "ipython3",
   "version": "3.11.4"
  }
 },
 "nbformat": 4,
 "nbformat_minor": 2
}
